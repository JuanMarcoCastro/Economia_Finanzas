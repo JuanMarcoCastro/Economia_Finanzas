{
 "cells": [
  {
   "cell_type": "code",
   "execution_count": null,
   "id": "8877083c",
   "metadata": {
    "vscode": {
     "languageId": "plaintext"
    }
   },
   "outputs": [],
   "source": [
    "import lseg.data as ld"
   ]
  },
  {
   "cell_type": "code",
   "execution_count": null,
   "id": "67347b4f",
   "metadata": {
    "vscode": {
     "languageId": "plaintext"
    }
   },
   "outputs": [],
   "source": [
    "import "
   ]
  }
 ],
 "metadata": {
  "language_info": {
   "name": "python"
  }
 },
 "nbformat": 4,
 "nbformat_minor": 5
}
